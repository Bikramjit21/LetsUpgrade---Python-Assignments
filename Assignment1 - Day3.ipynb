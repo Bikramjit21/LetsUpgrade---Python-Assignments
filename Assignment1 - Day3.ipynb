{
 "cells": [
  {
   "cell_type": "code",
   "execution_count": 2,
   "metadata": {},
   "outputs": [
    {
     "name": "stdout",
     "output_type": "stream",
     "text": [
      "Enter the altitude: 4500\n",
      "Bring it down to 1000\n"
     ]
    }
   ],
   "source": [
    "altitude = int(input(\"Enter the altitude: \"))\n",
    "\n",
    "if altitude <= 1000:\n",
    "    print(\"Safe to land the plane\")\n",
    "elif altitude >1000 and altitude <5000:\n",
    "    print(\"Bring it down to 1000\")\n",
    "else:\n",
    "    print(\"Go around and try later\")"
   ]
  }
 ],
 "metadata": {
  "kernelspec": {
   "display_name": "Python 3",
   "language": "python",
   "name": "python3"
  },
  "language_info": {
   "codemirror_mode": {
    "name": "ipython",
    "version": 3
   },
   "file_extension": ".py",
   "mimetype": "text/x-python",
   "name": "python",
   "nbconvert_exporter": "python",
   "pygments_lexer": "ipython3",
   "version": "3.7.6"
  }
 },
 "nbformat": 4,
 "nbformat_minor": 4
}
